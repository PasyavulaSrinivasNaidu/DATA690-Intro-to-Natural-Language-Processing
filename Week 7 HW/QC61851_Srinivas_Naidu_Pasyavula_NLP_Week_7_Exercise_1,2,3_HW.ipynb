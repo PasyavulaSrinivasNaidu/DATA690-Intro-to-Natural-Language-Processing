{
  "nbformat": 4,
  "nbformat_minor": 0,
  "metadata": {
    "colab": {
      "provenance": []
    },
    "kernelspec": {
      "name": "python3",
      "display_name": "Python 3"
    },
    "language_info": {
      "name": "python"
    }
  },
  "cells": [
    {
      "cell_type": "markdown",
      "source": [
        "**Srinivas Naidu Pasyavula <br>\n",
        "QC61851**\n",
        "<br><br>\n",
        "Dr. Tony Diana <br>\n",
        "DATA 690 Introduction to NLP <br>\n",
        "Homework, Week 7<br><br>\n",
        "\n",
        "\n",
        "Exercise 1. Sentiment Analysis<br>\n",
        "• Using textblob, what is the probability that the sentiment in the\n",
        "Burbank text is going to negative? <br><br>\n",
        "Exercise 2. Sentiment Analysis<br>\n",
        "• Using the data from exercise 1 and textblob, what is the overall\n",
        "sentiment and subjectivity? <br><br>\n",
        "Exercise 3. Key topic using ‘Word’ from textblob (very simple way to\n",
        "determine the key topics) based on the Burbank text file.\n",
        "• Import Word from textblob. Identify the key topics by using Word\n",
        "from textblob."
      ],
      "metadata": {
        "id": "Pr3HjLzDLkhX"
      }
    },
    {
      "cell_type": "markdown",
      "source": [
        "---"
      ],
      "metadata": {
        "id": "VYzNf9sMR7zS"
      }
    },
    {
      "cell_type": "code",
      "execution_count": 1,
      "metadata": {
        "colab": {
          "base_uri": "https://localhost:8080/"
        },
        "id": "TC0eY5LWLd2r",
        "outputId": "4fcec6c3-cd53-49e2-95d8-8f1da32cd4a4"
      },
      "outputs": [
        {
          "output_type": "stream",
          "name": "stdout",
          "text": [
            "Drive already mounted at /content/drive; to attempt to forcibly remount, call drive.mount(\"/content/drive\", force_remount=True).\n",
            "/content/drive/MyDrive/Colab Notebooks/NLP DATA 690 UMBC/Week7/Exercise 1\n",
            " Burbank.txt  'QC61851-Srinivas Naidu Pasyavula-NLP-Week 7-Exercise 1- HW.ipynb'\n"
          ]
        }
      ],
      "source": [
        "# This code mounts your Google Drive to the Colab notebook, changes the directory to a specific folder on your Drive, and lists the contents of that folder using the ls command.\n",
        "\n",
        "#!hostname -I\n",
        "from google.colab import drive\n",
        "drive.mount('/content/drive')\n",
        "#\n",
        "%cd /content/drive/MyDrive/'Colab Notebooks'/'NLP DATA 690 UMBC'/'Week7'/'Exercise 1'\n",
        "!ls"
      ]
    },
    {
      "cell_type": "markdown",
      "source": [
        "---"
      ],
      "metadata": {
        "id": "0AbffLKXRp1j"
      }
    },
    {
      "cell_type": "markdown",
      "source": [
        "## Exercise 1. Sentiment Analysis<br>\n",
        "• Using textblob, what is the probability that the sentiment in the\n",
        "Burbank text is going to negative?"
      ],
      "metadata": {
        "id": "VcPRG7__Rq6q"
      }
    },
    {
      "cell_type": "code",
      "source": [
        "# importing required packages and libraries\n",
        "from textblob import TextBlob"
      ],
      "metadata": {
        "id": "SQ5JSRxnMEC2"
      },
      "execution_count": 2,
      "outputs": []
    },
    {
      "cell_type": "code",
      "source": [
        "# Loading burbank text which contains the text to analyze\n",
        "# Read the content from the Burbank.txt file\n",
        "with open('Burbank.txt', 'r') as file:\n",
        "    burbank_text = file.read()"
      ],
      "metadata": {
        "id": "ptYVz9f2Mslk"
      },
      "execution_count": 3,
      "outputs": []
    },
    {
      "cell_type": "code",
      "source": [
        "# Perform sentiment analysis on the text\n",
        "analysis = TextBlob(burbank_text)\n",
        "polarity = analysis.sentiment.polarity  # Range is from -1 (most negative) to 1 (most positive)"
      ],
      "metadata": {
        "id": "Z3eXLYzgPQ9v"
      },
      "execution_count": 4,
      "outputs": []
    },
    {
      "cell_type": "code",
      "source": [
        "# Get the probability of the sentiment being negative\n",
        "probability_of_negativity = 1 - ((polarity + 1) / 2)  # Normalizing polarity to a probability between 0 and 1\n",
        "\n",
        "print(f\"Probability of negativity in the Burbank text: {probability_of_negativity}\")"
      ],
      "metadata": {
        "colab": {
          "base_uri": "https://localhost:8080/"
        },
        "id": "InsOfqbTN352",
        "outputId": "7b18bbe9-ce2f-473e-c69a-286c011f4411"
      },
      "execution_count": 5,
      "outputs": [
        {
          "output_type": "stream",
          "name": "stdout",
          "text": [
            "Probability of negativity in the Burbank text: 0.45065332759609866\n"
          ]
        }
      ]
    },
    {
      "cell_type": "markdown",
      "source": [
        "---"
      ],
      "metadata": {
        "id": "T7N_dmAiRce-"
      }
    },
    {
      "cell_type": "markdown",
      "source": [
        "## Exercise 2. Sentiment Analysis<br>\n",
        "• Using the data from exercise 1 and textblob, what is the overall\n",
        "sentiment and subjectivity?"
      ],
      "metadata": {
        "id": "4frbtSGPQ1Z2"
      }
    },
    {
      "cell_type": "code",
      "source": [
        "# Get overall sentiment\n",
        "overall_sentiment = analysis.sentiment"
      ],
      "metadata": {
        "id": "WQrLf6jYRu1T"
      },
      "execution_count": 6,
      "outputs": []
    },
    {
      "cell_type": "code",
      "source": [
        "# Get overall subjectivity\n",
        "overall_subjectivity = analysis.sentiment.subjectivity"
      ],
      "metadata": {
        "id": "g3t7dBEGRxkq"
      },
      "execution_count": 7,
      "outputs": []
    },
    {
      "cell_type": "code",
      "source": [
        "# Display the overall sentiment and objectivity\n",
        "print(f\"Overall sentiment of the Burbank text: {overall_sentiment}\")\n",
        "print(f\"Overall subjectivity of the Burbank text: {overall_subjectivity}\")"
      ],
      "metadata": {
        "colab": {
          "base_uri": "https://localhost:8080/"
        },
        "id": "WUDqgShXQCoB",
        "outputId": "44040904-66ae-43a2-d39d-16ca468c5cdc"
      },
      "execution_count": 8,
      "outputs": [
        {
          "output_type": "stream",
          "name": "stdout",
          "text": [
            "Overall sentiment of the Burbank text: Sentiment(polarity=0.09869334480780263, subjectivity=0.3790877796901893)\n",
            "Overall subjectivity of the Burbank text: 0.3790877796901893\n"
          ]
        }
      ]
    },
    {
      "cell_type": "markdown",
      "source": [
        "---"
      ],
      "metadata": {
        "id": "tPlEWSPhQ2_j"
      }
    },
    {
      "cell_type": "markdown",
      "source": [
        "## Exercise 3. Key topic using ‘Word’ from textblob (very simple way to determine the key topics) based on the Burbank text file.\n",
        "• Import Word from textblob. Identify the key topics by using Word\n",
        "from textblob."
      ],
      "metadata": {
        "id": "XrjVneazRWA4"
      }
    },
    {
      "cell_type": "code",
      "source": [
        "# importing required libraries and packages\n",
        "import nltk\n",
        "nltk.download('punkt')\n",
        "\n",
        "from textblob import TextBlob\n",
        "from collections import Counter\n",
        "import nltk"
      ],
      "metadata": {
        "colab": {
          "base_uri": "https://localhost:8080/"
        },
        "id": "zd59q9U4RMFe",
        "outputId": "32b601cc-4da9-423e-c8ae-1b8ddaab84df"
      },
      "execution_count": 9,
      "outputs": [
        {
          "output_type": "stream",
          "name": "stderr",
          "text": [
            "[nltk_data] Downloading package punkt to /root/nltk_data...\n",
            "[nltk_data]   Package punkt is already up-to-date!\n"
          ]
        }
      ]
    },
    {
      "cell_type": "code",
      "source": [
        "# Create a TextBlob object\n",
        "text_blob = TextBlob(burbank_text)"
      ],
      "metadata": {
        "id": "J3yyXfapSwGm"
      },
      "execution_count": 10,
      "outputs": []
    },
    {
      "cell_type": "code",
      "source": [
        "# Get individual words and their frequencies\n",
        "words = text_blob.words\n",
        "word_counts = Counter(words)"
      ],
      "metadata": {
        "id": "NgFPobOxSL3w"
      },
      "execution_count": 11,
      "outputs": []
    },
    {
      "cell_type": "code",
      "source": [
        "# Select the most common words as potential key topics\n",
        "most_common_words = word_counts.most_common(10)"
      ],
      "metadata": {
        "id": "0m1lAMPbSNt9"
      },
      "execution_count": 12,
      "outputs": []
    },
    {
      "cell_type": "code",
      "source": [
        "# Displaying Key topics based on word frequency\n",
        "print(\"Key topics based on word frequency:\")\n",
        "for word, count in most_common_words:\n",
        "    print(f\"{word}: {count} occurrences\")\n"
      ],
      "metadata": {
        "colab": {
          "base_uri": "https://localhost:8080/"
        },
        "id": "NpEO2H23QDdg",
        "outputId": "6ec07e4f-312c-4648-eb35-c505b8f6e96e"
      },
      "execution_count": 13,
      "outputs": [
        {
          "output_type": "stream",
          "name": "stdout",
          "text": [
            "Key topics based on word frequency:\n",
            "the: 100 occurrences\n",
            "of: 50 occurrences\n",
            "to: 39 occurrences\n",
            "and: 36 occurrences\n",
            "that: 20 occurrences\n",
            "in: 19 occurrences\n",
            "a: 16 occurrences\n",
            "The: 14 occurrences\n",
            "FAA: 13 occurrences\n",
            "Burbank: 12 occurrences\n"
          ]
        }
      ]
    }
  ]
}