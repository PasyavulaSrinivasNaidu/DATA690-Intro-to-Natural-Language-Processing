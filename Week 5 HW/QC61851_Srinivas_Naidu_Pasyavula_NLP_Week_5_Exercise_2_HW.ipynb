{
  "nbformat": 4,
  "nbformat_minor": 0,
  "metadata": {
    "colab": {
      "provenance": []
    },
    "kernelspec": {
      "name": "python3",
      "display_name": "Python 3"
    },
    "language_info": {
      "name": "python"
    }
  },
  "cells": [
    {
      "cell_type": "markdown",
      "source": [
        "**Srinivas Naidu Pasyavula <br>\n",
        "QC61851**\n",
        "<br><br>\n",
        "Dr. Tony Diana <br>\n",
        "DATA 690 Introduction to NLP <br>\n",
        "Homework, Week 5<br>\n",
        "Exercise 2. Sentiment Analysis"
      ],
      "metadata": {
        "id": "NfkCIziebaHC"
      }
    },
    {
      "cell_type": "markdown",
      "source": [
        "---"
      ],
      "metadata": {
        "id": "y9_oYpEHbjxd"
      }
    },
    {
      "cell_type": "code",
      "source": [
        "# This code mounts your Google Drive to the Colab notebook, changes the directory to a specific folder on your Drive, and lists the contents of that folder using the ls command.\n",
        "\n",
        "#!hostname -I\n",
        "from google.colab import drive\n",
        "drive.mount('/content/drive')\n",
        "#\n",
        "%cd /content/drive/MyDrive/'Colab Notebooks'/'NLP DATA 690 UMBC'/'week5'\n",
        "!ls"
      ],
      "metadata": {
        "colab": {
          "base_uri": "https://localhost:8080/"
        },
        "id": "OQaGaiW-blRm",
        "outputId": "2c9df073-59b1-46f5-e9e2-7db592fedb73"
      },
      "execution_count": 1,
      "outputs": [
        {
          "output_type": "stream",
          "name": "stdout",
          "text": [
            "Drive already mounted at /content/drive; to attempt to forcibly remount, call drive.mount(\"/content/drive\", force_remount=True).\n",
            "/content/drive/MyDrive/Colab Notebooks/NLP DATA 690 UMBC/week5\n",
            "'QC61851-Srinivas Naidu Pasyavula-NLP-Week 5-Exercise 1- HW.ipynb'   spaceX_DP.txt   SpaceX.txt\n"
          ]
        }
      ]
    },
    {
      "cell_type": "code",
      "source": [
        "# !pip install vaderSentiment"
      ],
      "metadata": {
        "id": "VvSy7vudcLC-"
      },
      "execution_count": 2,
      "outputs": []
    },
    {
      "cell_type": "code",
      "execution_count": 3,
      "metadata": {
        "id": "M1RtNsK2bZMZ"
      },
      "outputs": [],
      "source": [
        "from textblob import TextBlob\n",
        "from vaderSentiment.vaderSentiment import SentimentIntensityAnalyzer\n",
        "\n",
        "# Load the text from 'spaceX.txt' (replace with your actual file reading code)\n",
        "with open('SpaceX.txt', 'r') as file:\n",
        "    text = file.read()"
      ]
    },
    {
      "cell_type": "code",
      "source": [
        "# Initialize Vander Sentiment Analyzer\n",
        "analyzer = SentimentIntensityAnalyzer()"
      ],
      "metadata": {
        "id": "N3m64xzQ9FUo"
      },
      "execution_count": 4,
      "outputs": []
    },
    {
      "cell_type": "code",
      "source": [
        "# Load the text from 'spaceX.txt' (replace with your actual file reading code)\n",
        "with open('SpaceX.txt', 'r') as file:\n",
        "    text = file.read()\n",
        "\n",
        "# Create a SentimentIntensityAnalyzer object\n",
        "analyzer = SentimentIntensityAnalyzer()"
      ],
      "metadata": {
        "id": "QNcMpL5d9MtB"
      },
      "execution_count": 5,
      "outputs": []
    },
    {
      "cell_type": "code",
      "source": [
        "# Perform sentiment analysis\n",
        "sentiment = analyzer.polarity_scores(text)\n",
        "\n",
        "# Extract sentiment metrics\n",
        "compound = sentiment['compound']\n",
        "negative = sentiment['neg']\n",
        "neutral = sentiment['neu']\n",
        "positive = sentiment['pos']"
      ],
      "metadata": {
        "id": "wR8LTdXX-qux"
      },
      "execution_count": 6,
      "outputs": []
    },
    {
      "cell_type": "code",
      "source": [
        "# Print the results\n",
        "print(\"Compound: \", compound)\n",
        "print(\"Negative: \", negative)\n",
        "print(\"Neutral: \", neutral)\n",
        "print(\"Positive: \", positive)"
      ],
      "metadata": {
        "colab": {
          "base_uri": "https://localhost:8080/"
        },
        "id": "TbkehU9_-2Sz",
        "outputId": "1cb26d3e-00da-42b2-92ac-bb18c5b98333"
      },
      "execution_count": 7,
      "outputs": [
        {
          "output_type": "stream",
          "name": "stdout",
          "text": [
            "Compound:  0.5999\n",
            "Negative:  0.061\n",
            "Neutral:  0.863\n",
            "Positive:  0.076\n"
          ]
        }
      ]
    },
    {
      "cell_type": "code",
      "source": [
        "# Determine overall sentiment\n",
        "if compound > 0:\n",
        "    sentiment = \"positive\"\n",
        "elif compound < 0:\n",
        "    sentiment = \"negative\"\n",
        "else:\n",
        "    sentiment = \"neutral\""
      ],
      "metadata": {
        "id": "XAySWYHp-5Hd"
      },
      "execution_count": 8,
      "outputs": []
    },
    {
      "cell_type": "code",
      "source": [
        "# Print the result of Overall Sentiment\n",
        "print(\"Sentiment: \" + sentiment)"
      ],
      "metadata": {
        "colab": {
          "base_uri": "https://localhost:8080/"
        },
        "id": "MKcFkFmH_nds",
        "outputId": "a138770c-fa4c-4bc1-a490-c15f78f7f5dd"
      },
      "execution_count": 9,
      "outputs": [
        {
          "output_type": "stream",
          "name": "stdout",
          "text": [
            "Sentiment: positive\n"
          ]
        }
      ]
    },
    {
      "cell_type": "markdown",
      "source": [
        "**Note -**\n",
        "The overall sentiment of the text appears to be positive. The compound score is close to 1, indicating a strong positive sentiment, while the negative score is low, and the neutral and positive scores also support a positive sentiment."
      ],
      "metadata": {
        "id": "rzkXy0c7DDx-"
      }
    },
    {
      "cell_type": "code",
      "source": [
        "# Calculate the sentiment scores for the text.\n",
        "sentiment_scores = analyzer.polarity_scores(text)\n",
        "\n",
        "# Print the sentiment scores.\n",
        "print(sentiment_scores)"
      ],
      "metadata": {
        "colab": {
          "base_uri": "https://localhost:8080/"
        },
        "id": "ijHh5Ue9K-b3",
        "outputId": "b33ff68b-93bf-4319-b091-f611fcdc21b0"
      },
      "execution_count": 10,
      "outputs": [
        {
          "output_type": "stream",
          "name": "stdout",
          "text": [
            "{'neg': 0.061, 'neu': 0.863, 'pos': 0.076, 'compound': 0.5999}\n"
          ]
        }
      ]
    },
    {
      "cell_type": "code",
      "source": [
        "# Create a TextBlob object\n",
        "blob = TextBlob(text)\n",
        "\n",
        "# Calculate sentiment metrics\n",
        "polarity = blob.sentiment.polarity\n",
        "subjectivity = blob.sentiment.subjectivity\n",
        "\n",
        "\n",
        "# Print the results\n",
        "print(\"Polarity: \" + str(polarity))\n",
        "print(\"Subjectivity: \" + str(subjectivity))"
      ],
      "metadata": {
        "colab": {
          "base_uri": "https://localhost:8080/"
        },
        "id": "epP5Cw49KtnB",
        "outputId": "0d9a087b-0cc0-4aa0-88ed-31e5ff90cd5f"
      },
      "execution_count": 11,
      "outputs": [
        {
          "output_type": "stream",
          "name": "stdout",
          "text": [
            "Polarity: 0.12307692307692308\n",
            "Subjectivity: 0.30897435897435904\n"
          ]
        }
      ]
    },
    {
      "cell_type": "code",
      "source": [
        "# Determine subjectivity\n",
        "if subjectivity < 0.5:\n",
        "    subjectivity_type = \"objective\"\n",
        "else:\n",
        "    subjectivity_type = \"subjective\""
      ],
      "metadata": {
        "id": "nI3MyWbjMlDr"
      },
      "execution_count": 12,
      "outputs": []
    },
    {
      "cell_type": "code",
      "source": [
        "print(\"The text is more:\", subjectivity_type)"
      ],
      "metadata": {
        "colab": {
          "base_uri": "https://localhost:8080/"
        },
        "id": "MT5dc8NtGl8x",
        "outputId": "dc4295b7-ec71-41d0-89f3-b202a887318c"
      },
      "execution_count": 13,
      "outputs": [
        {
          "output_type": "stream",
          "name": "stdout",
          "text": [
            "The text is more: objective\n"
          ]
        }
      ]
    },
    {
      "cell_type": "markdown",
      "source": [
        "**Note -** A subjectivity score of 0.308 indicates that the text is slightly more objective than subjective. This is further confirmed by the sentiment scores, which show that the text is mostly neutral, with a slight positive bias."
      ],
      "metadata": {
        "id": "q4J74I2GM16U"
      }
    }
  ]
}