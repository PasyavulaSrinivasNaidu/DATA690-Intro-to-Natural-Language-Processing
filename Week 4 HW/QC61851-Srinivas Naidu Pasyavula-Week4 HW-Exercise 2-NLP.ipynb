{
  "nbformat": 4,
  "nbformat_minor": 0,
  "metadata": {
    "colab": {
      "provenance": []
    },
    "kernelspec": {
      "name": "python3",
      "display_name": "Python 3"
    },
    "language_info": {
      "name": "python"
    }
  },
  "cells": [
    {
      "cell_type": "markdown",
      "source": [
        "**Srinivas Naidu Pasyavula <br>\n",
        "QC61851**\n",
        "<br><br>\n",
        "Dr. Tony Diana <br>\n",
        "DATA 690 Introduction to NLP <br>\n",
        "Homework, Week 4; Exercise 2"
      ],
      "metadata": {
        "id": "UGbOHb_5bjWa"
      }
    },
    {
      "cell_type": "markdown",
      "source": [
        "---"
      ],
      "metadata": {
        "id": "Q6XGKiPWbjPP"
      }
    },
    {
      "cell_type": "code",
      "source": [
        "# Importing all the required Libraries and Packages\n",
        "import nltk\n",
        "nltk.download('punkt')\n",
        "nltk.download('stopwords')\n",
        "\n",
        "import string\n",
        "import re\n",
        "from textblob import TextBlob\n",
        "from nltk.tokenize import word_tokenize\n",
        "from nltk.corpus import stopwords\n",
        "from nltk.stem import PorterStemmer"
      ],
      "metadata": {
        "colab": {
          "base_uri": "https://localhost:8080/"
        },
        "id": "AlWVvdGKgWzO",
        "outputId": "936fb907-2372-4276-f868-ad4e1ceac9e0"
      },
      "execution_count": 1,
      "outputs": [
        {
          "output_type": "stream",
          "name": "stderr",
          "text": [
            "[nltk_data] Downloading package punkt to /root/nltk_data...\n",
            "[nltk_data]   Package punkt is already up-to-date!\n",
            "[nltk_data] Downloading package stopwords to /root/nltk_data...\n",
            "[nltk_data]   Package stopwords is already up-to-date!\n"
          ]
        }
      ]
    },
    {
      "cell_type": "code",
      "execution_count": 2,
      "metadata": {
        "id": "uzVDNr2-fWJ2"
      },
      "outputs": [],
      "source": [
        "# Sample Text\n",
        "text = '''The larger Broncos will be available with 35-inch off-road tires and will be able\n",
        "to drive through water nearly 3 feet, 10 inches deep. It has independent front\n",
        "suspension, unlike its main competitor, the Jeep Wrangler. Independent suspension, used\n",
        "on almost all modern passenger vehicles, generally provides a smoother ride and better on -\n",
        "road handling than a single solid axle. It still has a solid axle in the back though, like most\n",
        "pickup trucks, a design suited to hard use. Like the Wrangler, both the two- and four-door\n",
        "Bronco will have a removable roofs and doors. Buyers will be able to choose either a hard\n",
        "roof that can be removed in sections, a cloth top, or both. Unlike the Wrangler, though, the\n",
        "Bronco's doors will fit inside the vehicle after being removed. The Bronco will be available\n",
        "with a choice of either a 10-speed automatic or seven-speed manual transmission. (The\n",
        "manual transmission will have six gears for ordinary driving, plus a seventh for low speed\n",
        "off-road driving.) It will be powered by either a 270- horsepower 2.3-liter turbocharged 4-\n",
        "cylinder engine or a 310-horsepower 2.7-liter turbocharged V6. While all of the new Bronco\n",
        "SUVs are designed for hard off-road use, the Bronco Sport isn't quite as hard-core in its\n",
        "capabilities. It also has more convenience features than the more truck-like Bronco. While\n",
        "it's based on engineering that's similar to car-like crossover SUVs, Ford says that it's still\n",
        "intended for serious off-road use. Ford engineers boasted of the off-road testing the\n",
        "prototypes have been put through, including driving through deep sand, up steep inclines ,\n",
        "and crawling across boulder-strewn trails.'''"
      ]
    },
    {
      "cell_type": "markdown",
      "source": [
        "## 1. Replace special characters with empty spaces"
      ],
      "metadata": {
        "id": "7fqP_mdqcBat"
      }
    },
    {
      "cell_type": "code",
      "source": [
        "# Replace special characters with empty spaces\n",
        "''.join(char for char in text if char not in string.punctuation)"
      ],
      "metadata": {
        "colab": {
          "base_uri": "https://localhost:8080/",
          "height": 143
        },
        "id": "821y1HUucL7G",
        "outputId": "b00d6634-6b69-43fc-f7a2-eef01dc59449"
      },
      "execution_count": 3,
      "outputs": [
        {
          "output_type": "execute_result",
          "data": {
            "text/plain": [
              "'The larger Broncos will be available with 35inch offroad tires and will be able\\nto drive through water nearly 3 feet 10 inches deep It has independent front\\nsuspension unlike its main competitor the Jeep Wrangler Independent suspension used\\non almost all modern passenger vehicles generally provides a smoother ride and better on \\nroad handling than a single solid axle It still has a solid axle in the back though like most\\npickup trucks a design suited to hard use Like the Wrangler both the two and fourdoor\\nBronco will have a removable roofs and doors Buyers will be able to choose either a hard\\nroof that can be removed in sections a cloth top or both Unlike the Wrangler though the\\nBroncos doors will fit inside the vehicle after being removed The Bronco will be available\\nwith a choice of either a 10speed automatic or sevenspeed manual transmission The\\nmanual transmission will have six gears for ordinary driving plus a seventh for low speed\\noffroad driving It will be powered by either a 270 horsepower 23liter turbocharged 4\\ncylinder engine or a 310horsepower 27liter turbocharged V6 While all of the new Bronco\\nSUVs are designed for hard offroad use the Bronco Sport isnt quite as hardcore in its\\ncapabilities It also has more convenience features than the more trucklike Bronco While\\nits based on engineering thats similar to carlike crossover SUVs Ford says that its still\\nintended for serious offroad use Ford engineers boasted of the offroad testing the\\nprototypes have been put through including driving through deep sand up steep inclines \\nand crawling across boulderstrewn trails'"
            ],
            "application/vnd.google.colaboratory.intrinsic+json": {
              "type": "string"
            }
          },
          "metadata": {},
          "execution_count": 3
        }
      ]
    },
    {
      "cell_type": "markdown",
      "source": [
        "## 2. Remove multiple empty spaces and replace with a single space"
      ],
      "metadata": {
        "id": "NmLtm_3wcHMw"
      }
    },
    {
      "cell_type": "code",
      "source": [
        "# Remove multiple empty spaces and replace with a single space\n",
        "text = ' '.join(text.split())"
      ],
      "metadata": {
        "id": "qYZ6rIG9cGlw"
      },
      "execution_count": 4,
      "outputs": []
    },
    {
      "cell_type": "markdown",
      "source": [
        "## 3. Remove any single character"
      ],
      "metadata": {
        "id": "6Vqs0r-qcQLz"
      }
    },
    {
      "cell_type": "code",
      "source": [
        "# Remove any single character\n",
        "words = text.split()\n",
        "filtered_words = []\n",
        "for word in words:\n",
        "    if len(word) > 1:\n",
        "        filtered_words.append(word)\n",
        "text = ' '.join(filtered_words)"
      ],
      "metadata": {
        "id": "uPXA3sNvcOxv"
      },
      "execution_count": 5,
      "outputs": []
    },
    {
      "cell_type": "markdown",
      "source": [
        "## 4. Convert the text to all lowercase"
      ],
      "metadata": {
        "id": "WT7gbYdqcXpU"
      }
    },
    {
      "cell_type": "code",
      "source": [
        "# Convert the text to all lowercase\n",
        "text = text.lower()"
      ],
      "metadata": {
        "id": "98qGAWu1cSU1"
      },
      "execution_count": 6,
      "outputs": []
    },
    {
      "cell_type": "markdown",
      "source": [
        "## 5. Tokenize the text"
      ],
      "metadata": {
        "id": "2FL4vUdOcdgw"
      }
    },
    {
      "cell_type": "code",
      "source": [
        "# Tokenize the text\n",
        "words = word_tokenize(text)"
      ],
      "metadata": {
        "id": "PRcyw2nkcgri"
      },
      "execution_count": 7,
      "outputs": []
    },
    {
      "cell_type": "markdown",
      "source": [
        "## 6. Remove stopwords"
      ],
      "metadata": {
        "id": "zq9j0nx1cpKj"
      }
    },
    {
      "cell_type": "code",
      "source": [
        "# Remove stopwords\n",
        "stop_words = set(stopwords.words('english'))\n",
        "\n",
        "# Initialize an empty list to store filtered words\n",
        "filtered_words = []\n",
        "\n",
        "# Assuming 'words' is the list of words you want to filter\n",
        "for word in words:\n",
        "    if word not in stop_words:\n",
        "        filtered_words.append(word)"
      ],
      "metadata": {
        "id": "Ulfr_BLmcsIY"
      },
      "execution_count": 8,
      "outputs": []
    },
    {
      "cell_type": "markdown",
      "source": [
        "## 7. Tokenize, stem, and lemmatize the text"
      ],
      "metadata": {
        "id": "yqBkX_PMcw5U"
      }
    },
    {
      "cell_type": "code",
      "source": [
        "# Tokenize, stem, and lemmatize the text\n",
        "stemmer = PorterStemmer()\n",
        "stemmed_words = []\n",
        "\n",
        "for word in filtered_words:\n",
        "    stemmed_word = stemmer.stem(word)\n",
        "    stemmed_words.append(stemmed_word)"
      ],
      "metadata": {
        "id": "9Gj1R6lTc0qI"
      },
      "execution_count": 9,
      "outputs": []
    },
    {
      "cell_type": "markdown",
      "source": [
        "## 8. Calculate the overall sentiment and subjectivity of the text using TextBlob"
      ],
      "metadata": {
        "id": "tJujiuNUeL7h"
      }
    },
    {
      "cell_type": "code",
      "source": [
        "# Calculate the overall sentiment and subjectivity of the text using TextBlob\n",
        "blob = TextBlob(' '.join(stemmed_words))\n",
        "sentiment = blob.sentiment"
      ],
      "metadata": {
        "id": "8zNPWzujeIK9"
      },
      "execution_count": 10,
      "outputs": []
    },
    {
      "cell_type": "code",
      "source": [
        "# Print the cleaned text and sentiment analysis results\n",
        "print(\"Cleaned Text:\")\n",
        "print(' '.join(stemmed_words))\n",
        "print(\"\\nSentiment Analysis:\")\n",
        "print(f\"Polarity (Overall Sentiment): {sentiment.polarity}\")\n",
        "print(f\"Subjectivity: {sentiment.subjectivity}\")"
      ],
      "metadata": {
        "colab": {
          "base_uri": "https://localhost:8080/"
        },
        "id": "smxrzN9nb_Oo",
        "outputId": "f59ef5db-c86e-447c-aacb-973473463ca6"
      },
      "execution_count": 11,
      "outputs": [
        {
          "output_type": "stream",
          "name": "stdout",
          "text": [
            "Cleaned Text:\n",
            "larger bronco avail 35-inch off-road tire abl drive water nearli feet , 10 inch deep . independ front suspens , unlik main competitor , jeep wrangler . independ suspens , use almost modern passeng vehicl , gener provid smoother ride better road handl singl solid axl . still solid axl back though , like pickup truck , design suit hard use . like wrangler , two- four-door bronco remov roof door . buyer abl choos either hard roof remov section , cloth top , . unlik wrangler , though , bronco 's door fit insid vehicl remov . bronco avail choic either 10-speed automat seven-spe manual transmiss . ( manual transmiss six gear ordinari drive , plu seventh low speed off-road drive . ) power either 270- horsepow 2.3-liter turbocharg 4- cylind engin 310-horsepow 2.7-liter turbocharg v6 . new bronco suv design hard off-road use , bronco sport n't quit hard-cor capabl . also conveni featur truck-lik bronco . 's base engin 's similar car-lik crossov suv , ford say 's still intend seriou off-road use . ford engin boast off-road test prototyp put , includ drive deep sand , steep inclin crawl across boulder-strewn trail .\n",
            "\n",
            "Sentiment Analysis:\n",
            "Polarity (Overall Sentiment): 0.012668350168350143\n",
            "Subjectivity: 0.4062710437710438\n"
          ]
        }
      ]
    }
  ]
}