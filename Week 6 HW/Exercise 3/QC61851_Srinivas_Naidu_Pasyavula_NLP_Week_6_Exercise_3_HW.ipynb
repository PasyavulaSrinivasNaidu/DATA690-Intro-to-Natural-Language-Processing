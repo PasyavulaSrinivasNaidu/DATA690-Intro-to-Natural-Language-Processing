{
  "nbformat": 4,
  "nbformat_minor": 0,
  "metadata": {
    "colab": {
      "provenance": []
    },
    "kernelspec": {
      "name": "python3",
      "display_name": "Python 3"
    },
    "language_info": {
      "name": "python"
    }
  },
  "cells": [
    {
      "cell_type": "markdown",
      "source": [
        "**Srinivas Naidu Pasyavula <br>\n",
        "QC61851**\n",
        "<br><br>\n",
        "Dr. Tony Diana <br>\n",
        "DATA 690 Introduction to NLP <br>\n",
        "Homework, Week 6<br>\n",
        "Exercise 3. Topic Modeling"
      ],
      "metadata": {
        "id": "wPUTjnhXwx9b"
      }
    },
    {
      "cell_type": "code",
      "source": [
        "# This code mounts your Google Drive to the Colab notebook, changes the directory to a specific folder on your Drive, and lists the contents of that folder using the ls command.\n",
        "\n",
        "#!hostname -I\n",
        "from google.colab import drive\n",
        "drive.mount('/content/drive')\n",
        "#\n",
        "%cd /content/drive/MyDrive/'Colab Notebooks'/'NLP DATA 690 UMBC'/'week6'\n",
        "!ls"
      ],
      "metadata": {
        "colab": {
          "base_uri": "https://localhost:8080/"
        },
        "id": "OELSWtnqwvI_",
        "outputId": "2a955d4d-f926-4320-dd9d-63cde659d8d9"
      },
      "execution_count": 1,
      "outputs": [
        {
          "output_type": "stream",
          "name": "stdout",
          "text": [
            "Drive already mounted at /content/drive; to attempt to forcibly remount, call drive.mount(\"/content/drive\", force_remount=True).\n",
            "/content/drive/MyDrive/Colab Notebooks/NLP DATA 690 UMBC/week6\n",
            " abcnews-date-text.csv\t'QC61851-Srinivas Naidu Pasyavula-NLP-Week 6-Exercise 1- HW.ipynb'\n",
            " alice.txt\n"
          ]
        }
      ]
    },
    {
      "cell_type": "markdown",
      "source": [
        "## Importing all the required packages & libraries"
      ],
      "metadata": {
        "id": "3Lyky75xzchK"
      }
    },
    {
      "cell_type": "code",
      "source": [
        "from sklearn.feature_extraction.text import TfidfVectorizer\n",
        "from sklearn.decomposition import NMF\n",
        "import numpy as np"
      ],
      "metadata": {
        "id": "NIvP6E1AzW9A"
      },
      "execution_count": 2,
      "outputs": []
    },
    {
      "cell_type": "markdown",
      "source": [
        "## Load the file ‘alice.txt’ file"
      ],
      "metadata": {
        "id": "Fz-otp86zpp8"
      }
    },
    {
      "cell_type": "code",
      "source": [
        "# Read the text from the file\n",
        "with open('alice.txt', 'r') as file:\n",
        "    text = file.read()"
      ],
      "metadata": {
        "id": "tc7qoV1GzkkB"
      },
      "execution_count": 3,
      "outputs": []
    },
    {
      "cell_type": "markdown",
      "source": [
        "## Topic Modeling"
      ],
      "metadata": {
        "id": "ZCDYKbFg2oLD"
      }
    },
    {
      "cell_type": "code",
      "source": [
        "# Using TfidfVectorizer for vectorization\n",
        "vectorizer = TfidfVectorizer(max_features=1000, stop_words='english')\n",
        "X = vectorizer.fit_transform([text])"
      ],
      "metadata": {
        "id": "j9rfNW7910S0"
      },
      "execution_count": 4,
      "outputs": []
    },
    {
      "cell_type": "code",
      "source": [
        "# Define the number of topics\n",
        "n_topics = 20"
      ],
      "metadata": {
        "id": "BPTf_C7R2WFq"
      },
      "execution_count": 5,
      "outputs": []
    },
    {
      "cell_type": "code",
      "source": [
        "# Apply NMF for topic modeling\n",
        "nmf = NMF(n_components=n_topics, random_state=1)\n",
        "nmf.fit(X)"
      ],
      "metadata": {
        "colab": {
          "base_uri": "https://localhost:8080/",
          "height": 75
        },
        "id": "jliRcSW82Xil",
        "outputId": "2f06b4f7-7eae-42c0-a64d-88889d8b0f8e"
      },
      "execution_count": 6,
      "outputs": [
        {
          "output_type": "execute_result",
          "data": {
            "text/plain": [
              "NMF(n_components=20, random_state=1)"
            ],
            "text/html": [
              "<style>#sk-container-id-1 {color: black;background-color: white;}#sk-container-id-1 pre{padding: 0;}#sk-container-id-1 div.sk-toggleable {background-color: white;}#sk-container-id-1 label.sk-toggleable__label {cursor: pointer;display: block;width: 100%;margin-bottom: 0;padding: 0.3em;box-sizing: border-box;text-align: center;}#sk-container-id-1 label.sk-toggleable__label-arrow:before {content: \"▸\";float: left;margin-right: 0.25em;color: #696969;}#sk-container-id-1 label.sk-toggleable__label-arrow:hover:before {color: black;}#sk-container-id-1 div.sk-estimator:hover label.sk-toggleable__label-arrow:before {color: black;}#sk-container-id-1 div.sk-toggleable__content {max-height: 0;max-width: 0;overflow: hidden;text-align: left;background-color: #f0f8ff;}#sk-container-id-1 div.sk-toggleable__content pre {margin: 0.2em;color: black;border-radius: 0.25em;background-color: #f0f8ff;}#sk-container-id-1 input.sk-toggleable__control:checked~div.sk-toggleable__content {max-height: 200px;max-width: 100%;overflow: auto;}#sk-container-id-1 input.sk-toggleable__control:checked~label.sk-toggleable__label-arrow:before {content: \"▾\";}#sk-container-id-1 div.sk-estimator input.sk-toggleable__control:checked~label.sk-toggleable__label {background-color: #d4ebff;}#sk-container-id-1 div.sk-label input.sk-toggleable__control:checked~label.sk-toggleable__label {background-color: #d4ebff;}#sk-container-id-1 input.sk-hidden--visually {border: 0;clip: rect(1px 1px 1px 1px);clip: rect(1px, 1px, 1px, 1px);height: 1px;margin: -1px;overflow: hidden;padding: 0;position: absolute;width: 1px;}#sk-container-id-1 div.sk-estimator {font-family: monospace;background-color: #f0f8ff;border: 1px dotted black;border-radius: 0.25em;box-sizing: border-box;margin-bottom: 0.5em;}#sk-container-id-1 div.sk-estimator:hover {background-color: #d4ebff;}#sk-container-id-1 div.sk-parallel-item::after {content: \"\";width: 100%;border-bottom: 1px solid gray;flex-grow: 1;}#sk-container-id-1 div.sk-label:hover label.sk-toggleable__label {background-color: #d4ebff;}#sk-container-id-1 div.sk-serial::before {content: \"\";position: absolute;border-left: 1px solid gray;box-sizing: border-box;top: 0;bottom: 0;left: 50%;z-index: 0;}#sk-container-id-1 div.sk-serial {display: flex;flex-direction: column;align-items: center;background-color: white;padding-right: 0.2em;padding-left: 0.2em;position: relative;}#sk-container-id-1 div.sk-item {position: relative;z-index: 1;}#sk-container-id-1 div.sk-parallel {display: flex;align-items: stretch;justify-content: center;background-color: white;position: relative;}#sk-container-id-1 div.sk-item::before, #sk-container-id-1 div.sk-parallel-item::before {content: \"\";position: absolute;border-left: 1px solid gray;box-sizing: border-box;top: 0;bottom: 0;left: 50%;z-index: -1;}#sk-container-id-1 div.sk-parallel-item {display: flex;flex-direction: column;z-index: 1;position: relative;background-color: white;}#sk-container-id-1 div.sk-parallel-item:first-child::after {align-self: flex-end;width: 50%;}#sk-container-id-1 div.sk-parallel-item:last-child::after {align-self: flex-start;width: 50%;}#sk-container-id-1 div.sk-parallel-item:only-child::after {width: 0;}#sk-container-id-1 div.sk-dashed-wrapped {border: 1px dashed gray;margin: 0 0.4em 0.5em 0.4em;box-sizing: border-box;padding-bottom: 0.4em;background-color: white;}#sk-container-id-1 div.sk-label label {font-family: monospace;font-weight: bold;display: inline-block;line-height: 1.2em;}#sk-container-id-1 div.sk-label-container {text-align: center;}#sk-container-id-1 div.sk-container {/* jupyter's `normalize.less` sets `[hidden] { display: none; }` but bootstrap.min.css set `[hidden] { display: none !important; }` so we also need the `!important` here to be able to override the default hidden behavior on the sphinx rendered scikit-learn.org. See: https://github.com/scikit-learn/scikit-learn/issues/21755 */display: inline-block !important;position: relative;}#sk-container-id-1 div.sk-text-repr-fallback {display: none;}</style><div id=\"sk-container-id-1\" class=\"sk-top-container\"><div class=\"sk-text-repr-fallback\"><pre>NMF(n_components=20, random_state=1)</pre><b>In a Jupyter environment, please rerun this cell to show the HTML representation or trust the notebook. <br />On GitHub, the HTML representation is unable to render, please try loading this page with nbviewer.org.</b></div><div class=\"sk-container\" hidden><div class=\"sk-item\"><div class=\"sk-estimator sk-toggleable\"><input class=\"sk-toggleable__control sk-hidden--visually\" id=\"sk-estimator-id-1\" type=\"checkbox\" checked><label for=\"sk-estimator-id-1\" class=\"sk-toggleable__label sk-toggleable__label-arrow\">NMF</label><div class=\"sk-toggleable__content\"><pre>NMF(n_components=20, random_state=1)</pre></div></div></div></div></div>"
            ]
          },
          "metadata": {},
          "execution_count": 6
        }
      ]
    },
    {
      "cell_type": "code",
      "source": [
        "# Get the feature names from the vectorizer\n",
        "feature_names = vectorizer.get_feature_names_out()"
      ],
      "metadata": {
        "id": "qgwo0g1Q2YjR"
      },
      "execution_count": 7,
      "outputs": []
    },
    {
      "cell_type": "code",
      "source": [
        "# Print the top words for each topic\n",
        "for i, topic in enumerate(nmf.components_):\n",
        "    print(\"Topic {}: {}\".format(i + 1, \",\".join([feature_names[idx] for idx in topic.argsort()[-10:]])))\n"
      ],
      "metadata": {
        "colab": {
          "base_uri": "https://localhost:8080/"
        },
        "id": "HaELu7Yf10x_",
        "outputId": "97700253-1c34-471f-f393-c62c4a905c0b"
      },
      "execution_count": 8,
      "outputs": [
        {
          "output_type": "stream",
          "name": "stdout",
          "text": [
            "Topic 1: did,queen,time,thought,like,went,know,little,alice,said\n",
            "Topic 2: replied,know,rest,waited,hurried,cook,like,oh,march,queen\n",
            "Topic 3: child,moral,appeared,matter,hastily,finished,way,looking,sight,swim\n",
            "Topic 4: turtle,growing,wasn,tone,shouted,head,world,near,talk,best\n",
            "Topic 5: leave,hearts,life,pigs,great,heads,head,oh,know,alice\n",
            "Topic 6: went,followed,want,writing,round,dry,chin,makes,mouth,little\n",
            "Topic 7: moved,line,fear,serpents,added,violently,manner,question,water,noise\n",
            "Topic 8: nearer,knowledge,shouted,grand,kind,questions,goes,lefthand,considering,smaller\n",
            "Topic 9: hurry,drawling,right,questions,wood,door,haven,eagerly,alice,shouldn\n",
            "Topic 10: snail,box,knocking,ornamented,repeating,reach,surprised,help,fish,pair\n",
            "Topic 11: spoon,severely,list,hungry,solemn,narrow,manner,youth,key,ran\n",
            "Topic 12: crossed,trembled,ready,confusing,ah,silence,rule,bright,make,sea\n",
            "Topic 13: thing,fancy,cried,door,twinkle,people,said,learn,golden,fish\n",
            "Topic 14: needn,ve,glad,hunting,pigeon,face,decidedly,court,says,high\n",
            "Topic 15: duchess,say,time,know,voice,began,did,little,king,said\n",
            "Topic 16: slate,went,argument,passage,moving,old,pepper,thinking,heads,eyes\n",
            "Topic 17: breath,shut,porpoise,walked,child,mary,notion,relief,beheaded,tiny\n",
            "Topic 18: idea,let,strange,allow,listen,hear,hoarse,gravely,lady,cards\n",
            "Topic 19: dead,whiting,pattering,saw,roof,mouse,knife,asking,pardon,added\n",
            "Topic 20: minute,place,began,useful,moment,grave,queer,dear,lobster,sighing\n"
          ]
        }
      ]
    }
  ]
}