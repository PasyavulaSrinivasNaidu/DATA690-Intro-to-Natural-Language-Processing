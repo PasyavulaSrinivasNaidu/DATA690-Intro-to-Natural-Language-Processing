{
  "nbformat": 4,
  "nbformat_minor": 0,
  "metadata": {
    "colab": {
      "provenance": []
    },
    "kernelspec": {
      "name": "python3",
      "display_name": "Python 3"
    },
    "language_info": {
      "name": "python"
    }
  },
  "cells": [
    {
      "cell_type": "markdown",
      "source": [
        "**Srinivas Naidu Pasyavula <br>\n",
        "QC61851**\n",
        "<br><br>\n",
        "Dr. Tony Diana <br>\n",
        "DATA 690 Introduction to NLP <br>\n",
        "Homework, Week 6<br>\n",
        "Exercise 1. Text Generation"
      ],
      "metadata": {
        "id": "wPUTjnhXwx9b"
      }
    },
    {
      "cell_type": "code",
      "source": [
        "# This code mounts your Google Drive to the Colab notebook, changes the directory to a specific folder on your Drive, and lists the contents of that folder using the ls command.\n",
        "\n",
        "#!hostname -I\n",
        "from google.colab import drive\n",
        "drive.mount('/content/drive')\n",
        "#\n",
        "%cd /content/drive/MyDrive/'Colab Notebooks'/'NLP DATA 690 UMBC'/'week6'\n",
        "!ls"
      ],
      "metadata": {
        "colab": {
          "base_uri": "https://localhost:8080/"
        },
        "id": "OELSWtnqwvI_",
        "outputId": "1c8462c7-f753-4e6f-c12d-05fdf3029c43"
      },
      "execution_count": 3,
      "outputs": [
        {
          "output_type": "stream",
          "name": "stdout",
          "text": [
            "Drive already mounted at /content/drive; to attempt to forcibly remount, call drive.mount(\"/content/drive\", force_remount=True).\n",
            "/content/drive/MyDrive/Colab Notebooks/NLP DATA 690 UMBC/week6\n",
            " abcnews-date-text.csv\t'QC61851-Srinivas Naidu Pasyavula-NLP-Week 6-Exercise 1- HW.ipynb'\n",
            " alice.txt\n"
          ]
        }
      ]
    },
    {
      "cell_type": "markdown",
      "source": [
        "## Install markovify"
      ],
      "metadata": {
        "id": "CmhrF65uzLsa"
      }
    },
    {
      "cell_type": "code",
      "source": [
        "!pip install markovify"
      ],
      "metadata": {
        "colab": {
          "base_uri": "https://localhost:8080/"
        },
        "id": "pIygGldtw_OM",
        "outputId": "713d7568-7224-41fe-90b7-622bedfe3c42"
      },
      "execution_count": 4,
      "outputs": [
        {
          "output_type": "stream",
          "name": "stdout",
          "text": [
            "Collecting markovify\n",
            "  Downloading markovify-0.9.4.tar.gz (27 kB)\n",
            "  Preparing metadata (setup.py) ... \u001b[?25l\u001b[?25hdone\n",
            "Collecting unidecode (from markovify)\n",
            "  Downloading Unidecode-1.3.7-py3-none-any.whl (235 kB)\n",
            "\u001b[2K     \u001b[90m━━━━━━━━━━━━━━━━━━━━━━━━━━━━━━━━━━━━━━━━\u001b[0m \u001b[32m235.5/235.5 kB\u001b[0m \u001b[31m5.1 MB/s\u001b[0m eta \u001b[36m0:00:00\u001b[0m\n",
            "\u001b[?25hBuilding wheels for collected packages: markovify\n",
            "  Building wheel for markovify (setup.py) ... \u001b[?25l\u001b[?25hdone\n",
            "  Created wheel for markovify: filename=markovify-0.9.4-py3-none-any.whl size=18607 sha256=4e8af922c520ce1a77f603c4bede2fe8cb24069dc3daac7c2404100655702c1f\n",
            "  Stored in directory: /root/.cache/pip/wheels/ca/8c/c5/41413e24c484f883a100c63ca7b3b0362b7c6f6eb6d7c9cc7f\n",
            "Successfully built markovify\n",
            "Installing collected packages: unidecode, markovify\n",
            "Successfully installed markovify-0.9.4 unidecode-1.3.7\n"
          ]
        }
      ]
    },
    {
      "cell_type": "markdown",
      "source": [
        "## Importing all the required packages & libraries"
      ],
      "metadata": {
        "id": "3Lyky75xzchK"
      }
    },
    {
      "cell_type": "code",
      "source": [
        "import pandas as pd\n",
        "import markovify"
      ],
      "metadata": {
        "id": "NIvP6E1AzW9A"
      },
      "execution_count": 5,
      "outputs": []
    },
    {
      "cell_type": "markdown",
      "source": [
        "## Load the file ‘abcnews-date-text.csc’ as ‘inp’"
      ],
      "metadata": {
        "id": "Fz-otp86zpp8"
      }
    },
    {
      "cell_type": "code",
      "source": [
        "# Load the dataset\n",
        "inp = pd.read_csv('abcnews-date-text.csv')"
      ],
      "metadata": {
        "id": "tc7qoV1GzkkB"
      },
      "execution_count": 6,
      "outputs": []
    },
    {
      "cell_type": "code",
      "source": [
        "# Display the top three rows\n",
        "print(inp.head(3))"
      ],
      "metadata": {
        "colab": {
          "base_uri": "https://localhost:8080/"
        },
        "id": "JdHxM8xIzuA7",
        "outputId": "06598cfb-5884-49e2-d278-7cb3d54871ff"
      },
      "execution_count": 7,
      "outputs": [
        {
          "output_type": "stream",
          "name": "stdout",
          "text": [
            "   publish_date                                      headline_text\n",
            "0      20030219  aba decides against community broadcasting lic...\n",
            "1      20030219     act fire witnesses must be aware of defamation\n",
            "2      20030219     a g calls for infrastructure protection summit\n"
          ]
        }
      ]
    },
    {
      "cell_type": "markdown",
      "source": [
        "## Create a model with markovify as ‘text_model’ to generate text"
      ],
      "metadata": {
        "id": "_Qkt6jEC1q-V"
      }
    },
    {
      "cell_type": "code",
      "source": [
        "# Create a text model using markovify\n",
        "text_model = markovify.Text(inp['headline_text'], state_size=2)"
      ],
      "metadata": {
        "id": "9B4eul2e1D8O"
      },
      "execution_count": 8,
      "outputs": []
    },
    {
      "cell_type": "markdown",
      "source": [
        "## Print ten randomly generated sentences using the built model."
      ],
      "metadata": {
        "id": "EbVDjENm1vkw"
      }
    },
    {
      "cell_type": "code",
      "source": [
        "print(\"Ten Randomly Generated Sentences using text_model: \\n\")\n",
        "# Generate and print ten random sentences\n",
        "for sentences in range(10):\n",
        "    sentence = text_model.make_sentence()\n",
        "    print(sentences+1, \" : \", sentence)"
      ],
      "metadata": {
        "colab": {
          "base_uri": "https://localhost:8080/"
        },
        "id": "nbqbi6Un1Ulw",
        "outputId": "51f8c3c9-f8a2-4944-97a8-3516e0da3679"
      },
      "execution_count": 15,
      "outputs": [
        {
          "output_type": "stream",
          "name": "stdout",
          "text": [
            "Ten Randomly Generated Sentences using text_model: \n",
            "\n",
            "1  :  man shot after council reforms rejected\n",
            "2  :  trump refuses to sit english test\n",
            "3  :  ladies masters title after pedrosa crash\n",
            "4  :  federer battles through to kooyong final\n",
            "5  :  png shuns pacer plus talks\n",
            "6  :  png supreme court signals more foreign tourists\n",
            "7  :  nsw auditor general report reveals downturns vulnerable suburbs\n",
            "8  :  bowden development the standard govt\n",
            "9  :  new regulations follow hazelwood coal mine fire inquiry: chief health officer sacked over controversial rugby\n",
            "10  :  bank of qld soil could make you stronger grylls\n"
          ]
        }
      ]
    }
  ]
}