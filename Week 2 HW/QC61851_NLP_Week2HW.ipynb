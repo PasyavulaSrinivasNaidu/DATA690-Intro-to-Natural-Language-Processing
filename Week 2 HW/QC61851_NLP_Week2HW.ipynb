{
  "nbformat": 4,
  "nbformat_minor": 0,
  "metadata": {
    "colab": {
      "provenance": []
    },
    "kernelspec": {
      "name": "python3",
      "display_name": "Python 3"
    },
    "language_info": {
      "name": "python"
    }
  },
  "cells": [
    {
      "cell_type": "markdown",
      "source": [
        "Dr. Tony Diana <br>\n",
        "DATA 690 Introduction to NLP <br>\n",
        "Homework, Week 2 <br>\n",
        "\n",
        "<b> Srinivas Naidu Pasyavula </b> <br>\n",
        "<b> QC61851 </b>\n",
        "\n"
      ],
      "metadata": {
        "id": "3CUCW50pOzoi"
      }
    },
    {
      "cell_type": "markdown",
      "source": [
        "\n",
        "\n",
        "---\n",
        "\n",
        "\n",
        "\n",
        "---\n",
        "\n"
      ],
      "metadata": {
        "id": "4HCeRTw2PJtG"
      }
    },
    {
      "cell_type": "code",
      "execution_count": 1,
      "metadata": {
        "colab": {
          "base_uri": "https://localhost:8080/"
        },
        "id": "ndbBDTNuF44n",
        "outputId": "c70746e6-c0ce-42b6-a869-bae0a758cbc0"
      },
      "outputs": [
        {
          "output_type": "stream",
          "name": "stdout",
          "text": [
            "Requirement already satisfied: beautifulsoup4 in /usr/local/lib/python3.10/dist-packages (4.11.2)\n",
            "Requirement already satisfied: soupsieve>1.2 in /usr/local/lib/python3.10/dist-packages (from beautifulsoup4) (2.5)\n"
          ]
        }
      ],
      "source": [
        "# install beautifulsoup4\n",
        "!pip install beautifulsoup4"
      ]
    },
    {
      "cell_type": "code",
      "source": [
        "# install lxml\n",
        "!pip install lxml"
      ],
      "metadata": {
        "colab": {
          "base_uri": "https://localhost:8080/"
        },
        "id": "RuXn7yBAGjbs",
        "outputId": "878bed10-ecc4-4e2b-bde1-aa74815e2da3"
      },
      "execution_count": 2,
      "outputs": [
        {
          "output_type": "stream",
          "name": "stdout",
          "text": [
            "Requirement already satisfied: lxml in /usr/local/lib/python3.10/dist-packages (4.9.3)\n"
          ]
        }
      ]
    },
    {
      "cell_type": "code",
      "source": [
        "import bs4\n",
        "import lxml\n",
        "\n",
        "print(\"BeautifulSoup version:\", bs4.__version__)\n",
        "print(\"lxml version:\", lxml.__version__)\n"
      ],
      "metadata": {
        "colab": {
          "base_uri": "https://localhost:8080/"
        },
        "id": "JHIwJTiPGr--",
        "outputId": "52d7b34b-ce54-4858-e007-e229aced3429"
      },
      "execution_count": 3,
      "outputs": [
        {
          "output_type": "stream",
          "name": "stdout",
          "text": [
            "BeautifulSoup version: 4.11.2\n",
            "lxml version: 4.9.3\n"
          ]
        }
      ]
    },
    {
      "cell_type": "code",
      "source": [
        "# Step 1: Importing all the required packages and libraries\n",
        "from bs4 import BeautifulSoup\n",
        "import urllib.request"
      ],
      "metadata": {
        "id": "1QCGYSMsMFDJ"
      },
      "execution_count": 4,
      "outputs": []
    },
    {
      "cell_type": "code",
      "source": [
        "# Step 2: Define the URL of the website\n",
        "url = \"https://pythonprogramming.net/parsememcparseface/\""
      ],
      "metadata": {
        "id": "iJiocOClMLCg"
      },
      "execution_count": 5,
      "outputs": []
    },
    {
      "cell_type": "code",
      "source": [
        "# Use urllib.request to open the URL and retrieve the HTML content\n",
        "try:\n",
        "    # Step 3: Connect to the website using urllib.request\n",
        "    response = urllib.request.urlopen(url)\n",
        "\n",
        "    # Read the HTML content from the response\n",
        "    html_content = response.read()\n",
        "\n",
        "    # Step 4: Create a BeautifulSoup object\n",
        "    soup = BeautifulSoup(html_content, 'lxml')\n",
        "\n",
        "    # Step 5: Print page title, attributes, values, and beginning navigation\n",
        "    print(\"Page Title:\", soup.title.string)\n",
        "\n",
        "    # Find a specific element\n",
        "    specific_element = soup.find('p', class_='introduction')\n",
        "\n",
        "    if specific_element:\n",
        "        # Print the attributes and values of the specific element\n",
        "        print(\"Specific Element Attributes:\")\n",
        "        for attribute, value in specific_element.attrs.items():\n",
        "            print(f\"{attribute}: {value}\")\n",
        "\n",
        "        # Print the beginning navigation text\n",
        "        print(\"Beginning Navigation Text:\")\n",
        "        print(specific_element.get_text())\n",
        "\n",
        "    # Task 6: Find all the paragraph elements\n",
        "    paragraphs = soup.find_all('p')\n",
        "\n",
        "    # Task 7: Iterate through paragraphs and print their text\n",
        "    for paragraph in paragraphs:\n",
        "        print(\"Paragraph Text:\", paragraph.get_text())\n",
        "\n",
        "    # Task 8: Find and print all links using 'a' tags\n",
        "    links = soup.find_all('a', href=True)\n",
        "    for link in links:\n",
        "        print(\"Link Text:\", link.get_text())\n",
        "        print(\"Link URL:\", link['href'])\n",
        "\n",
        "    # Task 9: Print all text using get_text()\n",
        "    all_text = soup.get_text()\n",
        "    print(\"All Text on the Page:\")\n",
        "    print(all_text)\n",
        "\n",
        "except urllib.error.URLError as e:\n",
        "    print(\"Error: Failed to connect to the URL:\", e)\n"
      ],
      "metadata": {
        "colab": {
          "base_uri": "https://localhost:8080/"
        },
        "id": "0aS5BZGzI0eb",
        "outputId": "462a5bd0-555b-4864-ff71-9fab70438fd7"
      },
      "execution_count": 6,
      "outputs": [
        {
          "output_type": "stream",
          "name": "stdout",
          "text": [
            "Page Title: Python Programming Tutorials\n",
            "Specific Element Attributes:\n",
            "class: ['introduction']\n",
            "Beginning Navigation Text:\n",
            "Oh, hello! This is a wonderful page meant to let you practice web scraping. This page was originally created to help people work with the Beautiful Soup 4 library.\n",
            "Paragraph Text: Oh, hello! This is a wonderful page meant to let you practice web scraping. This page was originally created to help people work with the Beautiful Soup 4 library.\n",
            "Paragraph Text: The following table gives some general information for the following programming languages:\n",
            "Paragraph Text: I think it's clear that, on a scale of 1-10, python is:\n",
            "Paragraph Text: Javascript (dynamic data) test:\n",
            "Paragraph Text: y u bad tho?\n",
            "Paragraph Text: Whᶐt hαppéns now¿\n",
            "Paragraph Text: sitemap\n",
            "Paragraph Text: Contact: Harrison@pythonprogramming.net.\n",
            "Paragraph Text: Programming is a superpower.\n",
            "Link Text: \n",
            "Link URL: /\n",
            "Link Text: \n",
            "Link URL: #\n",
            "Link Text: Home\n",
            "Link URL: /\n",
            "Link Text: +=1\n",
            "Link URL: /+=1/\n",
            "Link Text: Support the Content\n",
            "Link URL: /support/\n",
            "Link Text: Community\n",
            "Link URL: https://goo.gl/7zgAVQ\n",
            "Link Text: Log in\n",
            "Link URL: /login/\n",
            "Link Text: Sign up\n",
            "Link URL: /register/\n",
            "Link Text: Home\n",
            "Link URL: /\n",
            "Link Text: +=1\n",
            "Link URL: /+=1/\n",
            "Link Text: Support the Content\n",
            "Link URL: /support/\n",
            "Link Text: Community\n",
            "Link URL: https://goo.gl/7zgAVQ\n",
            "Link Text: Log in\n",
            "Link URL: /login/\n",
            "Link Text: Sign up\n",
            "Link URL: /register/\n",
            "Link Text: Beautiful Soup 4\n",
            "Link URL: https://www.crummy.com/software/BeautifulSoup/bs4/doc/\n",
            "Link Text: sitemap\n",
            "Link URL: /sitemap.xml\n",
            "Link Text: Support this Website!\n",
            "Link URL: /support-donate/\n",
            "Link Text: Consulting and Contracting\n",
            "Link URL: /consulting/\n",
            "Link Text: Facebook\n",
            "Link URL: https://www.facebook.com/pythonprogramming.net/\n",
            "Link Text: Twitter\n",
            "Link URL: https://twitter.com/sentdex\n",
            "Link Text: Instagram\n",
            "Link URL: https://instagram.com/sentdex\n",
            "Link Text: Terms and Conditions\n",
            "Link URL: /about/tos/\n",
            "Link Text: Privacy Policy\n",
            "Link URL: /about/privacy-policy/\n",
            "Link Text: Programming is a superpower.\n",
            "Link URL: https://xkcd.com/353/\n",
            "All Text on the Page:\n",
            "\n",
            "\n",
            "\n",
            "\n",
            "Python Programming Tutorials\n",
            "\n",
            "\n",
            "\n",
            "\n",
            "\n",
            "\n",
            "\n",
            "\n",
            "\n",
            "\n",
            "\n",
            "\n",
            "\n",
            "\n",
            "\n",
            "\n",
            "\n",
            "\n",
            "\n",
            "\n",
            "\n",
            "\n",
            "\n",
            "search\n",
            "\n",
            "\n",
            "\n",
            "\n",
            "\n",
            "Home\n",
            "+=1\n",
            "\n",
            "Support the Content\n",
            "Community\n",
            "Log in\n",
            "Sign up\n",
            "\n",
            "\n",
            "\n",
            "\n",
            "\n",
            "\n",
            "\n",
            "Home\n",
            "+=1\n",
            "\n",
            "Support the Content\n",
            "Community\n",
            "Log in\n",
            "Sign up\n",
            "\n",
            "\n",
            "\n",
            "\n",
            "\n",
            "\n",
            "\n",
            "\n",
            "\n",
            "\n",
            "Oh, hello! This is a wonderful page meant to let you practice web scraping. This page was originally created to help people work with the Beautiful Soup 4 library.\n",
            "The following table gives some general information for the following programming languages:\n",
            "\n",
            "Python\n",
            "Pascal\n",
            "Lisp\n",
            "D#\n",
            "Cobol\n",
            "Fortran\n",
            "Haskell\n",
            "\n",
            "\n",
            "\n",
            "Program Name\n",
            "Internet Points\n",
            "Kittens?\n",
            "\n",
            "\n",
            "Python\n",
            "932914021\n",
            "Definitely\n",
            "\n",
            "\n",
            "Pascal\n",
            "532\n",
            "Unlikely\n",
            "\n",
            "\n",
            "Lisp\n",
            "1522\n",
            "Uncertain\n",
            "\n",
            "\n",
            "D#\n",
            "12\n",
            "Possibly\n",
            "\n",
            "\n",
            "Cobol\n",
            "3\n",
            "No.\n",
            "\n",
            "\n",
            "Fortran\n",
            "52124\n",
            "Yes.\n",
            "\n",
            "\n",
            "Haskell\n",
            "24\n",
            "lol.\n",
            "\n",
            "\n",
            "I think it's clear that, on a scale of 1-10, python is:\n",
            "\n",
            "\n",
            "\n",
            "\n",
            "\n",
            "\n",
            "Javascript (dynamic data) test:\n",
            "y u bad tho?\n",
            "\n",
            "\n",
            "Beautiful is better than ugly.\n",
            "Explicit is better than implicit.\n",
            "Simple is better than complex.\n",
            "Complex is better than complicated.\n",
            "Flat is better than nested.\n",
            "Sparse is better than dense.\n",
            "Readability counts.\n",
            "Special cases aren't special enough to break the rules.\n",
            "Although practicality beats purity.\n",
            "Errors should never pass silently.\n",
            "Unless explicitly silenced.\n",
            "In the face of ambiguity, refuse the temptation to guess.\n",
            "There should be one-- and preferably only one --obvious way to do it.\n",
            "Although that way may not be obvious at first unless you're Dutch.\n",
            "Now is better than never.\n",
            "Although never is often better than *right* now.\n",
            "If the implementation is hard to explain, it's a bad idea.\n",
            "If the implementation is easy to explain, it may be a good idea.\n",
            "Namespaces are one honking great idea -- let's do more of those!\n",
            "Whᶐt hαppéns now¿\n",
            "sitemap\n",
            "\n",
            "\n",
            "\n",
            "\n",
            "\n",
            "\n",
            "\n",
            "\n",
            "\n",
            "\n",
            "\n",
            "You've reached the end!\n",
            "Contact: Harrison@pythonprogramming.net.\n",
            "\n",
            "Support this Website!\n",
            "Consulting and Contracting\n",
            "Facebook\n",
            "Twitter\n",
            "Instagram\n",
            "\n",
            "\n",
            "\n",
            "Legal stuff:\n",
            "\n",
            "Terms and Conditions\n",
            "Privacy Policy\n",
            "\n",
            "\n",
            "\n",
            "\n",
            "Programming is a superpower.\n",
            "\n",
            "\n",
            "            © OVER 9000! PythonProgramming.net\n",
            "\n",
            "            \n",
            "\n",
            "\n",
            "\n",
            "\n"
          ]
        }
      ]
    },
    {
      "cell_type": "code",
      "source": [],
      "metadata": {
        "id": "yH_qOQfeL9vC"
      },
      "execution_count": 6,
      "outputs": []
    }
  ]
}